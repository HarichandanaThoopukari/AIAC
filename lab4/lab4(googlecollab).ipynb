{
  "nbformat": 4,
  "nbformat_minor": 0,
  "metadata": {
    "colab": {
      "provenance": []
    },
    "kernelspec": {
      "name": "python3",
      "display_name": "Python 3"
    },
    "language_info": {
      "name": "python"
    }
  },
  "cells": [
    {
      "cell_type": "markdown",
      "source": [
        "Task Description#1\n",
        "●\tZero-shot: Prompt AI to write a function that checks whether a given year is a leap year.\n",
        "Expected Output#1\n",
        "●\tAI-generated function with no examples provided\n",
        "prompt:\n",
        "write a python code to check whether given year is leap or not.read input from the user.\n"
      ],
      "metadata": {
        "id": "iP40v3JaWoEA"
      }
    },
    {
      "cell_type": "code",
      "metadata": {
        "colab": {
          "base_uri": "https://localhost:8080/"
        },
        "id": "8ca54420",
        "outputId": "b7628f60-b480-445f-e0b0-46f75f0cfdac"
      },
      "source": [
        "def is_leap_year(year):\n",
        "  \"\"\"Checks if a given year is a leap year.\"\"\"\n",
        "  if (year % 4 == 0 and year % 100 != 0) or (year % 400 == 0):\n",
        "    return True\n",
        "  else:\n",
        "    return False\n",
        "\n",
        "# Get year input from the user\n",
        "try:\n",
        "  year_to_check = int(input(\"Enter a year to check if it's a leap year: \"))\n",
        "  if is_leap_year(year_to_check):\n",
        "    print(f\"{year_to_check} is a leap year.\")\n",
        "  else:\n",
        "    print(f\"{year_to_check} is not a leap year.\")\n",
        "except ValueError:\n",
        "  print(\"Invalid input. Please enter a valid year as a number.\")"
      ],
      "execution_count": null,
      "outputs": [
        {
          "output_type": "stream",
          "name": "stdout",
          "text": [
            "Enter a year to check if it's a leap year: 2024\n",
            "2024 is a leap year.\n"
          ]
        }
      ]
    },
    {
      "cell_type": "markdown",
      "source": [
        "Task Description#2\n",
        "●\tOne-shot: Give one input-output example to guide AI in writing a function that converts centimeters to inches.\n",
        "Expected Output#2\n",
        "●\tFunction with correct conversion logic\n",
        "prompt:write a python code that converts centimeters to inches.\n",
        "example:10 cm=3.912345  inches\n",
        "read input cm user\n"
      ],
      "metadata": {
        "id": "MV3QDdtAYNBK"
      }
    },
    {
      "cell_type": "code",
      "metadata": {
        "colab": {
          "base_uri": "https://localhost:8080/"
        },
        "id": "d9065f53",
        "outputId": "2b149628-ccdd-470f-e710-1c9726934168"
      },
      "source": [
        "def cm_to_inches(cm):\n",
        "  \"\"\"Converts centimeters to inches.\"\"\"\n",
        "  return cm * 0.393701\n",
        "\n",
        "# Get input in centimeters from the user\n",
        "try:\n",
        "  cm_to_convert = float(input(\"Enter length in centimeters: \"))\n",
        "  inches = cm_to_inches(cm_to_convert)\n",
        "  print(f\"{cm_to_convert} cm is equal to {inches} inches.\")\n",
        "except ValueError:\n",
        "  print(\"Invalid input. Please enter a valid number for centimeters.\")"
      ],
      "execution_count": null,
      "outputs": [
        {
          "output_type": "stream",
          "name": "stdout",
          "text": [
            "Enter length in centimeters: 100\n",
            "100.0 cm is equal to 39.3701 inches.\n"
          ]
        }
      ]
    },
    {
      "cell_type": "markdown",
      "source": [
        "Task Description#3\n",
        "●\tFew-shot: Provide 2–3 examples to generate a function that formats full names as “Last, First”.\n",
        "Expected Output#3\n",
        "●\tWell-structured function respecting the examples\n",
        "\n",
        "Prompt:\n",
        "Write a python function that generates formats full names as “last,first”.\n",
        "Example: peter parker =parker peter.\n",
        "                 Harry potter=Potter Harry\n",
        "Read full name from the user.\n"
      ],
      "metadata": {
        "id": "WHB3pBJKb9HQ"
      }
    },
    {
      "cell_type": "code",
      "source": [
        "def format_name(full_name):\n",
        "  \"\"\"Formats a full name as 'Last, First'.\"\"\"\n",
        "  names = full_name.split()\n",
        "  if len(names) >= 2:\n",
        "    return f\"{names[-1]}, {' '.join(names[:-1])}\"\n",
        "  else:\n",
        "    return full_name # Return original name if not enough parts\n",
        "\n",
        "# Get full name input from the user\n",
        "full_name_input = input(\"Enter a full name (e.g., Peter Parker): \")\n",
        "formatted_name = format_name(full_name_input)\n",
        "print(f\"Formatted name: {formatted_name}\")"
      ],
      "metadata": {
        "colab": {
          "base_uri": "https://localhost:8080/"
        },
        "id": "EjW7wVb5cVfT",
        "outputId": "74dc9e68-94fb-4e13-c595-5a6ac74a5b4e"
      },
      "execution_count": null,
      "outputs": [
        {
          "output_type": "stream",
          "name": "stdout",
          "text": [
            "Enter a full name (e.g., Peter Parker): harichandana thoopukari\n",
            "Formatted name: thoopukari, harichandana\n"
          ]
        }
      ]
    },
    {
      "cell_type": "markdown",
      "source": [
        "Task Description#4\n",
        "●\tCompare zero-shot and few-shot prompts for writing a function that counts the number of vowels in a string.\n",
        "Expected Output#4\n",
        "●\tFunctional output and comparative reflection\n",
        "\n",
        "Prompt:\n",
        "1.Zero shot:\n",
        "      Write a python program to count number of vowels in a string. read                  input from the user.\n"
      ],
      "metadata": {
        "id": "Ggrj2zmPcnx8"
      }
    },
    {
      "cell_type": "code",
      "source": [
        "def count_vowels(input_string):\n",
        "  \"\"\"Counts the number of vowels in a string.\"\"\"\n",
        "  vowels = \"aeiouAEIOU\"\n",
        "  vowel_count = 0\n",
        "  for char in input_string:\n",
        "    if char in vowels:\n",
        "      vowel_count += 1\n",
        "  return vowel_count\n",
        "\n",
        "# Get input string from the user\n",
        "user_string = input(\"Enter a string to count vowels: \")\n",
        "num_vowels = count_vowels(user_string)\n",
        "print(f\"The number of vowels in the string is: {num_vowels}\")"
      ],
      "metadata": {
        "colab": {
          "base_uri": "https://localhost:8080/"
        },
        "id": "bbB6fw1xdawA",
        "outputId": "2e728d54-bd61-46ff-98fd-b8c05cff4258"
      },
      "execution_count": null,
      "outputs": [
        {
          "output_type": "stream",
          "name": "stdout",
          "text": [
            "Enter a string to count vowels: harichandana\n",
            "The number of vowels in the string is: 5\n"
          ]
        }
      ]
    },
    {
      "cell_type": "markdown",
      "source": [
        "2.few-shot:\n",
        "     Write a python program to count number of vowels in a given string.\n",
        "Example: sruniversity\n",
        "Vowel count=4.\n",
        "trinity=2.\n",
        "Read input from the user.\n",
        "            \n"
      ],
      "metadata": {
        "id": "XronHZ8Dd35E"
      }
    },
    {
      "cell_type": "code",
      "source": [
        "def count_vowels_few_shot(input_string):\n",
        "  \"\"\"Counts the number of vowels in a string based on a few-shot example.\"\"\"\n",
        "  vowels = \"aeiouAEIOU\"\n",
        "  vowel_count = 0\n",
        "  for char in input_string:\n",
        "    if char in vowels:\n",
        "      vowel_count += 1\n",
        "  return vowel_count\n",
        "\n",
        "# Get input string from the user\n",
        "user_string_few_shot = input(\"Enter a string to count vowels (few-shot example): \")\n",
        "num_vowels_few_shot = count_vowels_few_shot(user_string_few_shot)\n",
        "print(f\"Vowel count = {num_vowels_few_shot}\")"
      ],
      "metadata": {
        "colab": {
          "base_uri": "https://localhost:8080/"
        },
        "id": "mFyces9Vd7VN",
        "outputId": "3c443d2d-87cc-4b61-97db-119a50b4dcf1"
      },
      "execution_count": null,
      "outputs": [
        {
          "output_type": "stream",
          "name": "stdout",
          "text": [
            "Enter a string to count vowels (few-shot example): warangal\n",
            "Vowel count = 3\n"
          ]
        }
      ]
    },
    {
      "cell_type": "markdown",
      "source": [
        "Task Description#5\n",
        "●\tUse few-shot prompting to generate a function that reads a .txt file and returns the number of lines.\n",
        "Expected Output#5\n",
        "●\tWorking file-processing function with AI-guided logic\n",
        "\n",
        "Prompt:\n",
        " Generate a function that reads the given a.txt file and returns the number of lines\n",
        "  Example:hello sr university.hanmakonda warangal.\n",
        "                   Top engineering college.\n",
        "                    Offers wide variety of courses.\n",
        "No.of lines in a.txt=3.\n"
      ],
      "metadata": {
        "id": "FSMhR6egePZ7"
      }
    },
    {
      "cell_type": "code",
      "source": [],
      "metadata": {
        "id": "z1sHsglfgOyg"
      },
      "execution_count": null,
      "outputs": []
    },
    {
      "cell_type": "code",
      "metadata": {
        "colab": {
          "base_uri": "https://localhost:8080/"
        },
        "id": "f94c220c",
        "outputId": "2473d12a-231a-44d1-e066-6ee5359e4f54"
      },
      "source": [
        "# Create the example file a.txt (if it doesn't exist or needs to be reset)\n",
        "file_content = \"\"\"hello sr university.hanmakonda warangal.\n",
        "Top engineering college.\n",
        "Offers wide variety of courses.\"\"\"\n",
        "\n",
        "try:\n",
        "    with open(\"/content/a.txt\", \"w\") as f:\n",
        "        f.write(file_content)\n",
        "    print(\"a.txt created successfully.\")\n",
        "except Exception as e:\n",
        "    print(f\"Error creating a.txt: {e}\")"
      ],
      "execution_count": null,
      "outputs": [
        {
          "output_type": "stream",
          "name": "stdout",
          "text": [
            "a.txt created successfully.\n"
          ]
        }
      ]
    },
    {
      "cell_type": "code",
      "metadata": {
        "colab": {
          "base_uri": "https://localhost:8080/"
        },
        "id": "2b137203",
        "outputId": "96cc2aa5-c991-4566-f4fb-dfa672dad2f3"
      },
      "source": [
        "def count_lines_in_file(filename):\n",
        "  \"\"\"Reads a text file and returns the number of lines.\"\"\"\n",
        "  try:\n",
        "    with open(filename, 'r') as f:\n",
        "      lines = f.readlines()\n",
        "      return len(lines)\n",
        "  except FileNotFoundError:\n",
        "    return f\"Error: File '{filename}' not found.\"\n",
        "  except Exception as e:\n",
        "    return f\"An error occurred: {e}\"\n",
        "\n",
        "# Example usage with the created file\n",
        "file_path = \"/content/a.txt\"\n",
        "line_count = count_lines_in_file(file_path)\n",
        "print(f\"No. of lines in {file_path} = {line_count}\")"
      ],
      "execution_count": null,
      "outputs": [
        {
          "output_type": "stream",
          "name": "stdout",
          "text": [
            "No. of lines in /content/a.txt = 3\n"
          ]
        }
      ]
    }
  ]
}