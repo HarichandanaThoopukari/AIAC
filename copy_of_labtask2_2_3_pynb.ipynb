{
  "nbformat": 4,
  "nbformat_minor": 0,
  "metadata": {
    "colab": {
      "provenance": [],
      "authorship_tag": "ABX9TyMgGzJ5NGub6zRTSVQWfh9z",
      "include_colab_link": true
    },
    "kernelspec": {
      "name": "python3",
      "display_name": "Python 3"
    },
    "language_info": {
      "name": "python"
    }
  },
  "cells": [
    {
      "cell_type": "markdown",
      "metadata": {
        "id": "view-in-github",
        "colab_type": "text"
      },
      "source": [
        "<a href=\"https://colab.research.google.com/github/HarichandanaThoopukari/AIAC/blob/main/copy_of_labtask2_2_3_pynb.ipynb\" target=\"_parent\"><img src=\"https://colab.research.google.com/assets/colab-badge.svg\" alt=\"Open In Colab\"/></a>"
      ]
    },
    {
      "cell_type": "markdown",
      "source": [
        "Task Description#2\n",
        "●\tCompare Gemini and Copilot outputs for a palindrome check function\n",
        "\n"
      ],
      "metadata": {
        "id": "2oWS4iljDyM2"
      }
    },
    {
      "cell_type": "code",
      "metadata": {
        "colab": {
          "base_uri": "https://localhost:8080/"
        },
        "id": "4cbe6c46",
        "outputId": "d06fe409-daac-420d-8cd1-cf9b3fb33fc6"
      },
      "source": [
        "def is_palindrome(number):\n",
        "  \"\"\"\n",
        "  Checks if a given number is a palindrome.\n",
        "\n",
        "  Args:\n",
        "    number (int or str): The number to check.\n",
        "\n",
        "  Returns:\n",
        "    bool: True if the number is a palindrome, False otherwise.\n",
        "  \"\"\"\n",
        "  # Convert the number to a string to easily reverse it\n",
        "  num_str = str(number)\n",
        "  # Reverse the string\n",
        "  reversed_str = num_str[::-1]\n",
        "  # Check if the original string is equal to the reversed string\n",
        "  return num_str == reversed_str\n",
        "\n",
        "# Read a number from the user\n",
        "user_input = input(\"Enter a number to check if it's a palindrome: \")\n",
        "\n",
        "# Attempt to convert the input to a number (integer or float)\n",
        "try:\n",
        "  # Try converting to integer first\n",
        "  num_to_check = int(user_input)\n",
        "except ValueError:\n",
        "  try:\n",
        "    # If integer conversion fails, try converting to float\n",
        "    num_to_check = float(user_input)\n",
        "  except ValueError:\n",
        "    # If both fail, the input is not a valid number\n",
        "    print(\"Invalid input. Please enter a valid number.\")\n",
        "    num_to_check = None # Set to None to avoid checking non-numeric input\n",
        "\n",
        "# Check if the input was a valid number before proceeding\n",
        "if num_to_check is not None:\n",
        "  if is_palindrome(num_to_check):\n",
        "    print(f\"{user_input} is a palindrome.\")\n",
        "  else:\n",
        "    print(f\"{user_input} is not a palindrome.\")"
      ],
      "execution_count": null,
      "outputs": [
        {
          "output_type": "stream",
          "name": "stdout",
          "text": [
            "Enter a number to check if it's a palindrome: 1221\n",
            "1221 is a palindrome.\n"
          ]
        }
      ]
    }
  ]
}