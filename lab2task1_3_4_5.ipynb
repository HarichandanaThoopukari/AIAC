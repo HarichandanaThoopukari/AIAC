{
  "nbformat": 4,
  "nbformat_minor": 0,
  "metadata": {
    "colab": {
      "provenance": [],
      "authorship_tag": "ABX9TyOC4HXcG2NhsxKOt18uOQyi",
      "include_colab_link": true
    },
    "kernelspec": {
      "name": "python3",
      "display_name": "Python 3"
    },
    "language_info": {
      "name": "python"
    }
  },
  "cells": [
    {
      "cell_type": "markdown",
      "metadata": {
        "id": "view-in-github",
        "colab_type": "text"
      },
      "source": [
        "<a href=\"https://colab.research.google.com/github/HarichandanaThoopukari/AIAC/blob/main/lab2task1_3_4_5.ipynb\" target=\"_parent\"><img src=\"https://colab.research.google.com/assets/colab-badge.svg\" alt=\"Open In Colab\"/></a>"
      ]
    },
    {
      "cell_type": "code",
      "execution_count": null,
      "metadata": {
        "id": "RBoX3bc-Z-tq"
      },
      "outputs": [],
      "source": []
    },
    {
      "cell_type": "markdown",
      "source": [
        "Task Description#1\n",
        "●\tUse Google Gemini in Colab to write a function that reads a CSV file and calculates mean, min, max.\n"
      ],
      "metadata": {
        "id": "pMZU4I-daG1G"
      }
    },
    {
      "cell_type": "code",
      "source": [
        "import pandas as pd\n",
        "def calculate_column_stats(file_path, column_name):\n",
        "  try:\n",
        "    df = pd.read_csv(file_path)\n",
        "    if column_name not in df.columns:\n",
        "      print(f\"Error: Column '{column_name}' not found in the file.\")\n",
        "      return None\n",
        "    if not pd.api.types.is_numeric_dtype(df[column_name]):\n",
        "        print(f\"Error: Column '{column_name}' is not numerical.\")\n",
        "        return None\n",
        "    mean_val = df[column_name].mean()\n",
        "    min_val = df[column_name].min()\n",
        "    max_val = df[column_name].max()\n",
        "    stats = {\n",
        "        'mean': mean_val,\n",
        "        'min': min_val,\n",
        "        'max': max_val\n",
        "    }\n",
        "    return stats\n",
        "  except FileNotFoundError:\n",
        "    print(f\"Error: File not found at {file_path}\")\n",
        "    return None\n",
        "  except Exception as e:\n",
        "    print(f\"An error occurred: {e}\")\n",
        "    return None\n",
        "file_path = \"/content/lab2.csv\"\n",
        "column_to_analyze = 'sno' # ** IMPORTANT: Change 'Your_Column_Name' to your actual column name **\n",
        "column_stats = calculate_column_stats(file_path, column_to_analyze)\n",
        "if column_stats is not None:\n",
        "  print(f\"Statistics for column '{column_to_analyze}':\")\n",
        "  print(f\"Mean: {column_stats['mean']}\")\n",
        "  print(f\"Minimum: {column_stats['min']}\")\n",
        "  print(f\"Maximum: {column_stats['max']}\")"
      ],
      "metadata": {
        "colab": {
          "base_uri": "https://localhost:8080/"
        },
        "id": "27ylz3G3aINf",
        "outputId": "ad195ad2-7989-4625-97de-efe54da12425"
      },
      "execution_count": 3,
      "outputs": [
        {
          "output_type": "stream",
          "name": "stdout",
          "text": [
            "Statistics for column 'sno':\n",
            "Mean: 45.6\n",
            "Minimum: 7\n",
            "Maximum: 78\n"
          ]
        }
      ]
    },
    {
      "cell_type": "markdown",
      "source": [
        "Python function for factorial using recursion (Task #3)"
      ],
      "metadata": {
        "id": "2Q4FHZQAdZyF"
      }
    },
    {
      "cell_type": "code",
      "metadata": {
        "colab": {
          "base_uri": "https://localhost:8080/"
        },
        "id": "97b67e2a",
        "outputId": "d41d3a89-052e-45dd-e3ea-7deb1db002a1"
      },
      "source": [
        "def recursive_factorial(n):\n",
        "  \"\"\"\n",
        "  Calculates the factorial of a non-negative integer using recursion.\n",
        "\n",
        "  Args:\n",
        "    n (int): A non-negative integer.\n",
        "\n",
        "  Returns:\n",
        "    int: The factorial of n.\n",
        "\n",
        "  Raises:\n",
        "    ValueError: If n is a negative integer.\n",
        "  \"\"\"\n",
        "  if not isinstance(n, int) or n < 0:\n",
        "    raise ValueError(\"Input must be a non-negative integer\")\n",
        "  if n == 0:\n",
        "    return 1\n",
        "  else:\n",
        "    return n * recursive_factorial(n-1)\n",
        "\n",
        "# Get input from the user\n",
        "while True:\n",
        "    try:\n",
        "        user_input = input(\"Enter a non-negative integer to calculate its factorial: \")\n",
        "        number = int(user_input)\n",
        "        result = recursive_factorial(number)\n",
        "        print(f\"The factorial of {number} is {result}\")\n",
        "        break # Exit the loop if input is valid and factorial is calculated\n",
        "    except ValueError as e:\n",
        "        print(f\"Invalid input: {e}. Please enter a non-negative integer.\")\n",
        "    except RecursionError:\n",
        "        print(f\"Error: Input number {number} is too large for recursion depth.\")"
      ],
      "execution_count": 6,
      "outputs": [
        {
          "output_type": "stream",
          "name": "stdout",
          "text": [
            "Enter a non-negative integer to calculate its factorial: 4\n",
            "The factorial of 4 is 24\n"
          ]
        }
      ]
    },
    {
      "cell_type": "markdown",
      "source": [
        "Task Description#3\n",
        "●\tAsk Gemini to explain a Python function (to calculate area of various shapes) line by line..\n"
      ],
      "metadata": {
        "id": "WXhPS6Avf41x"
      }
    },
    {
      "cell_type": "code",
      "source": [],
      "metadata": {
        "id": "YIuPYtqDghVO"
      },
      "execution_count": null,
      "outputs": []
    },
    {
      "cell_type": "markdown",
      "source": [
        "Task Description#5\n",
        "●\tStudent need to write code to calculate sum of add number and even numbers in the list\n"
      ],
      "metadata": {
        "id": "YweiZE8bhIe3"
      }
    },
    {
      "cell_type": "code",
      "source": [],
      "metadata": {
        "id": "CL_yPZk0hKv6"
      },
      "execution_count": null,
      "outputs": []
    },
    {
      "cell_type": "code",
      "metadata": {
        "colab": {
          "base_uri": "https://localhost:8080/"
        },
        "id": "e7ee1fcf",
        "outputId": "a081f1ef-0fcf-4aae-c3fa-4b7b4a8db0ec"
      },
      "source": [
        "def sum_odd_even(numbers):\n",
        "  \"\"\"\n",
        "  Calculates the sum of odd and even numbers in a list.\n",
        "\n",
        "  Args:\n",
        "    numbers (list): A list of numbers.\n",
        "\n",
        "  Returns:\n",
        "    tuple: A tuple containing the sum of odd numbers and the sum of even numbers.\n",
        "  \"\"\"\n",
        "  sum_odd = 0\n",
        "  sum_even = 0\n",
        "  for number in numbers:\n",
        "    if isinstance(number, (int, float)): # Check if the element is a number\n",
        "      if number % 2 == 0:\n",
        "        sum_even += number\n",
        "      else:\n",
        "        sum_odd += number\n",
        "    else:\n",
        "      print(f\"Warning: Skipping non-numeric element: {number}\")\n",
        "  return sum_odd, sum_even\n",
        "\n",
        "# Example usage:\n",
        "my_list = [1, 2, 3, 4, 5, 6, 7, 8, 9, 10]\n",
        "odd_sum, even_sum = sum_odd_even(my_list)\n",
        "\n",
        "print(f\"List: {my_list}\")\n",
        "print(f\"Sum of odd numbers: {odd_sum}\")\n",
        "print(f\"Sum of even numbers: {even_sum}\")\n",
        "\n",
        "my_list_with_non_numbers = [1, 2, 'three', 4, 5.5, 6, 'seven']\n",
        "odd_sum_mixed, even_sum_mixed = sum_odd_even(my_list_with_non_numbers)\n",
        "\n",
        "print(f\"\\nList: {my_list_with_non_numbers}\")\n",
        "print(f\"Sum of odd numbers (mixed list): {odd_sum_mixed}\")\n",
        "print(f\"Sum of even numbers (mixed list): {even_sum_mixed}\")"
      ],
      "execution_count": 9,
      "outputs": [
        {
          "output_type": "stream",
          "name": "stdout",
          "text": [
            "List: [1, 2, 3, 4, 5, 6, 7, 8, 9, 10]\n",
            "Sum of odd numbers: 25\n",
            "Sum of even numbers: 30\n",
            "Warning: Skipping non-numeric element: three\n",
            "Warning: Skipping non-numeric element: seven\n",
            "\n",
            "List: [1, 2, 'three', 4, 5.5, 6, 'seven']\n",
            "Sum of odd numbers (mixed list): 6.5\n",
            "Sum of even numbers (mixed list): 12\n"
          ]
        }
      ]
    }
  ]
}